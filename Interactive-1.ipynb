{
 "cells": [
  {
   "cell_type": "markdown",
   "metadata": {},
   "source": [
    "Connected to Python 3.13.1"
   ]
  },
  {
   "cell_type": "code",
   "execution_count": null,
   "id": "5fb21300-d56a-4fd0-a92a-31280fc74097",
   "metadata": {},
   "outputs": [
    {
     "ename": "ModuleNotFoundError",
     "evalue": "No module named 'plotly'",
     "output_type": "error",
     "traceback": [
      "\u001b[1;31m---------------------------------------------------------------------------\u001b[0m",
      "\u001b[1;31mModuleNotFoundError\u001b[0m                       Traceback (most recent call last)",
      "File \u001b[1;32mPerrito-ing\\Proyecto-6\\app.py:2\u001b[0m\n\u001b[0;32m      1\u001b[0m \u001b[39mimport\u001b[39;00m\u001b[39m \u001b[39m\u001b[39mpandas\u001b[39;00m\u001b[39m \u001b[39m\u001b[39mas\u001b[39;00m\u001b[39m \u001b[39m\u001b[39mpd\u001b[39;00m\n\u001b[1;32m----> 2\u001b[0m \u001b[39mimport\u001b[39;00m\u001b[39m \u001b[39m\u001b[39mplotly\u001b[39;00m\u001b[39m.\u001b[39;00m\u001b[39mexpress\u001b[39;00m\u001b[39m \u001b[39m\u001b[39mas\u001b[39;00m\u001b[39m \u001b[39m\u001b[39mpx\u001b[39;00m\n\u001b[0;32m      3\u001b[0m \u001b[39mimport\u001b[39;00m\u001b[39m \u001b[39m\u001b[39mstreamlit\u001b[39;00m\u001b[39m \u001b[39m\u001b[39mas\u001b[39;00m\u001b[39m \u001b[39m\u001b[39mst\u001b[39;00m\n\u001b[0;32m      5\u001b[0m car_data \u001b[39m=\u001b[39m pd\u001b[39m.\u001b[39mread_csv(\u001b[39m\"\u001b[39m\u001b[39mhttps://raw.githubusercontent.com/Perrito-ing/Proyecto-6/refs/heads/main/vehicles_us.csv\u001b[39m\u001b[39m\"\u001b[39m) \u001b[39m# leer los datos\u001b[39;00m\n",
      "\u001b[1;31mModuleNotFoundError\u001b[0m: No module named 'plotly'"
     ]
    }
   ],
   "source": [
    "import pandas as pd\n",
    "import plotly.express as px\n",
    "import streamlit as st\n",
    "        \n",
    "car_data = pd.read_csv(\"https://raw.githubusercontent.com/Perrito-ing/Proyecto-6/refs/heads/main/vehicles_us.csv\") # leer los datos\n",
    "hist_button = st.button('Construir histograma') # crear un botón\n",
    "        \n",
    "if hist_button: # al hacer clic en el botón\n",
    "    st.write('Creación de un histograma para el conjunto de datos de anuncios de venta de coches')\n",
    "    fig = px.histogram(car_data, x=\"odometer\")\n",
    "    st.plotly_chart(fig, use_container_width=True)\n",
    "\n",
    "\n",
    "plotly_button = st.button('Construir grafico de dispersión') # crear un botón\n",
    "        \n",
    "if plotly_button: # al hacer clic en el botón\n",
    "    st.write('Creación de un histograma para el conjunto de datos de anuncios de venta de coches')\n",
    "    fig = px.scatter(car_data, x=\"odometer\")\n",
    "    st.plotly_chart(fig, use_container_width=True)"
   ]
  }
 ],
 "metadata": {
  "kernelspec": {
   "display_name": "Python 3",
   "language": "python",
   "name": "python3"
  },
  "language_info": {
   "name": "python",
   "version": "3.13.1"
  }
 },
 "nbformat": 4,
 "nbformat_minor": 2
}
